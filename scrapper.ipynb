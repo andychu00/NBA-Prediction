{
 "cells": [
  {
   "cell_type": "code",
   "execution_count": 1,
   "metadata": {},
   "outputs": [],
   "source": [
    "from selenium import webdriver\n",
    "from selenium.webdriver.common.by import By\n",
    "from selenium.webdriver.support.ui import WebDriverWait\n",
    "from selenium.webdriver.support import expected_conditions as EC\n",
    "from ipywidgets import IntProgress\n",
    "from IPython.display import display\n",
    "import pandas as pd\n",
    "pd.options.display.max_columns = 30"
   ]
  },
  {
   "cell_type": "code",
   "execution_count": 6,
   "metadata": {},
   "outputs": [
    {
     "data": {
      "application/vnd.jupyter.widget-view+json": {
       "model_id": "e6f19ba8ebc24b428f61fa10a28174b4",
       "version_major": 2,
       "version_minor": 0
      },
      "text/plain": [
       "IntProgress(value=0, max=2138)"
      ]
     },
     "metadata": {},
     "output_type": "display_data"
    },
    {
     "name": "stdout",
     "output_type": "stream",
     "text": [
      "Wall time: 15min 30s\n"
     ]
    }
   ],
   "source": [
    "%%time\n",
    "\n",
    "PATH = \"C:/Program Files (x86)/chromedriver.exe\"\n",
    "driver = webdriver.Chrome(PATH)\n",
    "\n",
    "driver.get(\"https://www.nba.com/stats/teams/boxscores/\")\n",
    "\n",
    "matchData  = {\n",
    "    'Team':[],\n",
    "    'MatchUp':[],\n",
    "    'Date':[],\n",
    "    'W/L':[],\n",
    "    'Min':[],\n",
    "    'Points':[],\n",
    "    'FGM':[], # Field Goals Made\n",
    "    'FGA':[], # Field Goals Attempt\n",
    "    'FGP':[], # Field Goals Percentage\n",
    "    '3PM':[], # 3 Points Made\n",
    "    '3PA':[], # 3 Points Attempt\n",
    "    '3PP':[], # 3 Points Percentage\n",
    "    'FTM':[], # Free Throw Made\n",
    "    'FTA':[], # Free Throw Attempt\n",
    "    'FTP':[], # Free Throw Percentage\n",
    "    'OREB':[],# Offensive Rebounds\n",
    "    'DREB':[],# Defensive Rebounds\n",
    "    'REB':[], # Rebound\n",
    "    'AST':[], # Assists\n",
    "    'STL':[], # Steals\n",
    "    'BLK':[], # Blocks\n",
    "    'TOV':[], # Turnover\n",
    "    'PF':[],  # Personal Fouls\n",
    "    'PN':[],  # +/-\n",
    "}\n",
    "cols = list(matchData.keys())\n",
    "\n",
    "total = WebDriverWait(driver, 10).until(EC.presence_of_element_located((By.CSS_SELECTOR,\"div.stats-table-pagination__info\"))).text\n",
    "pages = int(total.split('of ')[-1])\n",
    "total = int(total.split(' Rows')[0])\n",
    "\n",
    "nextButton = WebDriverWait(driver, 10).until(EC.presence_of_element_located((By.CSS_SELECTOR,\"a.stats-table-pagination__next\")))\n",
    "\n",
    "pbar = IntProgress(min=0, max=total)\n",
    "display(pbar)\n",
    "\n",
    "for page in range(pages):\n",
    "    if page != 0:\n",
    "        nextButton.click()\n",
    "\n",
    "    rowsInPage = WebDriverWait(driver, 10).until(EC.presence_of_all_elements_located((By.CSS_SELECTOR,\"tr[data-ng-repeat='(i, row) in page track by row.$hash']\")))\n",
    "    rowsInPage = int(len(rowsInPage)/2)\n",
    "\n",
    "    for i in range(rowsInPage):\n",
    "        result = []\n",
    "        dataRow = WebDriverWait(driver, 10).until(EC.presence_of_all_elements_located((By.CSS_SELECTOR,f\"tr[data-ng-repeat='(i, row) in page track by row.$hash'][index='{i}'] td\")))\n",
    "\n",
    "        for ele in dataRow: \n",
    "            if ele.text != '': result.append(ele.text)\n",
    "        result.pop()\n",
    "        \n",
    "        for j in range(len(cols)):\n",
    "            matchData[cols[j]].append(result[j])\n",
    "            \n",
    "        pbar.value+=1\n",
    "\n",
    "matchData = pd.DataFrame(matchData)\n",
    "driver.quit()\n",
    "matchData.to_csv('MatchData.csv')"
   ]
  }
 ],
 "metadata": {
  "interpreter": {
   "hash": "4fe423c96aa21f041534bead582c2e6c3f42ab46597860deda9051867850283b"
  },
  "kernelspec": {
   "display_name": "Python 3.8.5 64-bit",
   "language": "python",
   "name": "python3"
  },
  "language_info": {
   "codemirror_mode": {
    "name": "ipython",
    "version": 3
   },
   "file_extension": ".py",
   "mimetype": "text/x-python",
   "name": "python",
   "nbconvert_exporter": "python",
   "pygments_lexer": "ipython3",
   "version": "3.8.5"
  },
  "orig_nbformat": 4
 },
 "nbformat": 4,
 "nbformat_minor": 2
}
